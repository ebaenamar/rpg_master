{
 "cells": [
  {
   "cell_type": "markdown",
   "metadata": {},
   "source": [
    "# Medieval Chronicles: The Fallen Knight\n",
    "\n",
    "This notebook runs a text-based RPG game with RAG-based historical context."
   ]
  },
  {
   "cell_type": "markdown",
   "metadata": {},
   "source": [
    "## Setup and Imports"
   ]
  },
  {
   "cell_type": "code",
   "execution_count": 1,
   "metadata": {},
   "outputs": [
    {
     "data": {
      "text/plain": [
       "True"
      ]
     },
     "execution_count": 1,
     "metadata": {},
     "output_type": "execute_result"
    }
   ],
   "source": [
    "import os\n",
    "import json\n",
    "from dotenv import load_dotenv\n",
    "\n",
    "from rpg_game.orchestrator.game_orchestrator import GameOrchestrator\n",
    "from rpg_game.rag.retriever import RAGRetriever, load_sample_data\n",
    "\n",
    "# Load environment variables\n",
    "load_dotenv()"
   ]
  },
  {
   "cell_type": "markdown",
   "metadata": {},
   "source": [
    "## RAG System Setup\n",
    "\n",
    "Set up the Retrieval-Augmented Generation system with historical data."
   ]
  },
  {
   "cell_type": "code",
   "execution_count": 2,
   "metadata": {},
   "outputs": [],
   "source": [
    "def setup_rag_system():\n",
    "    \"\"\"Set up the RAG system with historical data\"\"\"\n",
    "    print(\"Setting up RAG system with historical data...\")\n",
    "    \n",
    "    # Create data directory if it doesn't exist\n",
    "    os.makedirs(\"./data/vector_db\", exist_ok=True)\n",
    "    \n",
    "    # Initialize RAG retriever\n",
    "    retriever = RAGRetriever()\n",
    "    \n",
    "    # Load sample historical data\n",
    "    historical_data = load_sample_data(\"./data/historical_data.json\")\n",
    "    \n",
    "    if historical_data:\n",
    "        # Add documents to vector database\n",
    "        retriever.add_documents(historical_data)\n",
    "        print(f\"Added {len(historical_data)} historical documents to RAG system\")\n",
    "    else:\n",
    "        print(\"No historical data found or error loading data\")\n",
    "    \n",
    "    return retriever"
   ]
  },
  {
   "cell_type": "markdown",
   "metadata": {},
   "source": [
    "## Game Loop\n",
    "\n",
    "The main game loop for the text-based RPG."
   ]
  },
  {
   "cell_type": "code",
   "execution_count": 3,
   "metadata": {},
   "outputs": [],
   "source": [
    "def text_based_game_loop():\n",
    "    \"\"\"Run a simple text-based version of the game\"\"\"\n",
    "    # Set up RAG system\n",
    "    setup_rag_system()\n",
    "    \n",
    "    # Initialize game orchestrator\n",
    "    game = GameOrchestrator()\n",
    "    \n",
    "    # Start the game\n",
    "    player_name = input(\"Enter your character's name: \")\n",
    "    current_scene = game.start_game(player_name)\n",
    "    \n",
    "    print(\"\\n\" + \"=\" * 50)\n",
    "    print(f\"Welcome to Medieval Chronicles: The Fallen Knight, {player_name}!\")\n",
    "    print(\"You are accompanied by Ser Elyen, a fallen knight seeking redemption.\")\n",
    "    print(\"=\" * 50 + \"\\n\")\n",
    "    \n",
    "    # Game loop\n",
    "    while True:\n",
    "        # Display current scene\n",
    "        print(f\"\\n== {current_scene['title']} ==\\n\")\n",
    "        print(current_scene['description'])\n",
    "        print(\"\\n\")\n",
    "        \n",
    "        # Display historical context if available\n",
    "        if current_scene.get('historical_context'):\n",
    "            print(\"Historical Context:\")\n",
    "            for item in current_scene['historical_context']:\n",
    "                print(f\"- {item['title']}: {item['text'][:100]}...\")\n",
    "            print(\"\\n\")\n",
    "        \n",
    "        # Display player alignment\n",
    "        alignment = current_scene['player_scores']['alignment']\n",
    "        relationship = current_scene['player_scores']['relationship']\n",
    "        print(f\"Alignment: {alignment['description']} ({alignment['law_chaos']}/{alignment['good_evil']})\")\n",
    "        print(f\"Relationship with Ser Elyen: {relationship['description']} ({relationship['trust']}/100)\")\n",
    "        print(\"\\n\")\n",
    "        \n",
    "        # Display action choices\n",
    "        print(\"What will you do?\")\n",
    "        for i, action in enumerate(current_scene['actions']):\n",
    "            print(f\"{chr(65+i)}) {action}\")\n",
    "        \n",
    "        # Get player choice\n",
    "        while True:\n",
    "            choice = input(\"\\nEnter your choice (A, B, C, D): \").upper()\n",
    "            if choice in ['A', 'B', 'C', 'D']:\n",
    "                action_index = ord(choice) - ord('A')\n",
    "                if action_index < len(current_scene['actions']):\n",
    "                    break\n",
    "            print(\"Invalid choice. Please try again.\")\n",
    "        \n",
    "        # Process player action\n",
    "        action_result = game.process_player_action(action_index)\n",
    "        \n",
    "        # Display agent response\n",
    "        print(\"\\n\" + \"-\" * 50)\n",
    "        print(f\"Ser Elyen: {action_result['agent_response']}\")\n",
    "        print(\"-\" * 50 + \"\\n\")\n",
    "        \n",
    "        # Check if game should continue\n",
    "        if action_result['has_next_scene']:\n",
    "            # Advance to next scene\n",
    "            current_scene = game.advance_to_next_scene()\n",
    "        else:\n",
    "            # End of game or branch\n",
    "            print(\"\\nYou have reached the end of this path.\")\n",
    "            if input(\"Would you like to save your progress? (y/n): \").lower() == 'y':\n",
    "                game.save_game()\n",
    "                print(\"Game saved.\")\n",
    "            \n",
    "            if input(\"Would you like to continue exploring? (y/n): \").lower() != 'y':\n",
    "                break\n",
    "            \n",
    "            # Return to a previous scene for exploration\n",
    "            current_scene = game.get_current_scene()\n",
    "    \n",
    "    print(\"\\nThank you for playing Medieval Chronicles: The Fallen Knight!\")"
   ]
  },
  {
   "cell_type": "markdown",
   "metadata": {},
   "source": [
    "## API Key Check and Main Function\n",
    "\n",
    "Check for the AI21 API key and provide a way to set it if missing."
   ]
  },
  {
   "cell_type": "code",
   "execution_count": 4,
   "metadata": {},
   "outputs": [],
   "source": [
    "def main():\n",
    "    \"\"\"Main entry point\"\"\"\n",
    "    # Check if AI21 API key is set\n",
    "    if not os.getenv('AI21_API_KEY'):\n",
    "        print(\"WARNING: AI21_API_KEY environment variable is not set.\")\n",
    "        print(\"Please set your AI21 API key in a .env file or environment variable.\")\n",
    "        api_key = input(\"Enter your AI21 API key to continue: \")\n",
    "        os.environ['AI21_API_KEY'] = api_key\n",
    "    \n",
    "    # Run the game\n",
    "    text_based_game_loop()"
   ]
  },
  {
   "cell_type": "markdown",
   "metadata": {},
   "source": [
    "## Run the Game\n",
    "\n",
    "Execute this cell to start the game."
   ]
  },
  {
   "cell_type": "code",
   "execution_count": 6,
   "metadata": {},
   "outputs": [
    {
     "name": "stdin",
     "output_type": "stream",
     "text": [
      "Enter your AI21 API key:  v7uBaXL8sXKB4SmHsrxIOa14sYsWPcT9\n"
     ]
    },
    {
     "name": "stdout",
     "output_type": "stream",
     "text": [
      "✅ API key set successfully.\n"
     ]
    }
   ],
   "source": [
    "import os\n",
    "\n",
    "# Set your AI21 API key\n",
    "api_key = input(\"Enter your AI21 API key: \")\n",
    "os.environ['AI21_API_KEY'] = api_key\n",
    "print(\"✅ API key set successfully.\")"
   ]
  },
  {
   "cell_type": "code",
   "execution_count": null,
   "metadata": {},
   "outputs": [],
   "source": []
  },
  {
   "cell_type": "code",
   "execution_count": null,
   "metadata": {},
   "outputs": [
    {
     "name": "stdout",
     "output_type": "stream",
     "text": [
      "Reloading module: rpg_game.rag.retriever\n",
      "Reloading module: rpg_game.orchestrator.game_orchestrator\n",
      "Module rag_helper not loaded yet\n",
      "✅ All RAG modules reloaded successfully\n",
      "Now you can run the game again!\n",
      "Setting up RAG system with historical data...\n",
      "Loaded vector database with 110 documents\n",
      "Added 10 documents to vector database\n",
      "Added 10 historical documents to RAG system\n",
      "Loaded vector database with 120 documents\n",
      "Loaded 5 scenes from game data\n"
     ]
    },
    {
     "name": "stdin",
     "output_type": "stream",
     "text": [
      "Enter your character's name:  ed\n"
     ]
    },
    {
     "name": "stdout",
     "output_type": "stream",
     "text": [
      "[RAG] Query: medieval church bells, 13th century England\n",
      "[RAG] Filter tags: ['religion', 'village', 'ritual']\n",
      "[RAG] Retrieved 0 documents\n",
      "\n",
      "==================================================\n",
      "Welcome to Medieval Chronicles: The Fallen Knight, ed!\n",
      "You are accompanied by Ser Elyen, a fallen knight seeking redemption.\n",
      "==================================================\n",
      "\n",
      "\n",
      "== The Broken Bell ==\n",
      "\n",
      "You stand beneath the broken bell of the village church. The wooden beams creak above you, and dust motes dance in the rays of sunlight streaming through the stained glass windows. The bell's rope hangs limply, frayed at the end.\n",
      "\n",
      "\n",
      "Alignment: Neutral Neutral (0/0)\n",
      "Relationship with Ser Elyen: Moderate Trust (50/100)\n",
      "\n",
      "\n",
      "What will you do?\n",
      "A) Pull the rope to test the bell\n",
      "B) Examine the inscription on the bell\n",
      "C) Search the altar for clues\n",
      "D) Leave quietly and investigate the woods\n"
     ]
    },
    {
     "name": "stdin",
     "output_type": "stream",
     "text": [
      "\n",
      "Enter your choice (A, B, C, D):  A\n"
     ]
    },
    {
     "name": "stdout",
     "output_type": "stream",
     "text": [
      "[RAG] Query: medieval church bells, 13th century England\n",
      "[RAG] Filter tags: ['religion', 'village', 'ritual']\n",
      "[RAG] Retrieved 0 documents\n",
      "\n",
      "--------------------------------------------------\n",
      "Ser Elyen: The rope slips through your gloved hands, frayed and weak. A hollow clang echoes through the church, resonating with the silence of neglect. The bell does not ring true.\n",
      "--------------------------------------------------\n",
      "\n",
      "[RAG] Query: medieval church bell accidents, village authority\n",
      "[RAG] Filter tags: ['religion', 'village', 'law']\n",
      "[RAG] Retrieved 0 documents\n",
      "\n",
      "== The Fallen Bell ==\n",
      "\n",
      "As you pull the rope, the ancient mechanism gives way with a terrible groan. The bell crashes down, narrowly missing you, and shatters upon the stone floor. The sound echoes throughout the village, and you hear shouts of alarm from outside.\n",
      "\n",
      "\n",
      "Alignment: Neutral Neutral (-5/0)\n",
      "Relationship with Ser Elyen: Cautious Trust (45/100)\n",
      "\n",
      "\n",
      "What will you do?\n",
      "A) Flee the scene before anyone arrives\n",
      "B) Stay and explain the accident\n",
      "C) Blame the poor maintenance of the church\n",
      "D) Offer to pay for repairs\n"
     ]
    },
    {
     "name": "stdin",
     "output_type": "stream",
     "text": [
      "\n",
      "Enter your choice (A, B, C, D):  C\n"
     ]
    },
    {
     "name": "stdout",
     "output_type": "stream",
     "text": [
      "[RAG] Query: medieval church bell accidents, village authority\n",
      "[RAG] Filter tags: ['religion', 'village', 'law']\n",
      "[RAG] Retrieved 0 documents\n",
      "\n",
      "--------------------------------------------------\n",
      "Ser Elyen: The words leave your lips, devoid of conviction. It is a weak excuse, spoken more out of habit than truth. You know the truth lies deeper, in the shadows of your own failures.\n",
      "--------------------------------------------------\n",
      "\n",
      "[RAG] Query: medieval church bell accidents, village authority\n",
      "[RAG] Filter tags: ['religion', 'village', 'law']\n",
      "[RAG] Retrieved 0 documents\n",
      "\n",
      "== The Fallen Bell ==\n",
      "\n",
      "As you pull the rope, the ancient mechanism gives way with a terrible groan. The bell crashes down, narrowly missing you, and shatters upon the stone floor. The sound echoes throughout the village, and you hear shouts of alarm from outside.\n",
      "\n",
      "\n",
      "Alignment: Neutral Neutral (-10/-5)\n",
      "Relationship with Ser Elyen: Cautious Trust (35/100)\n",
      "\n",
      "\n",
      "What will you do?\n",
      "A) Flee the scene before anyone arrives\n",
      "B) Stay and explain the accident\n",
      "C) Blame the poor maintenance of the church\n",
      "D) Offer to pay for repairs\n"
     ]
    }
   ],
   "source": [
    "# Force reload of RAG modules to apply code changes\n",
    "from reload_modules import reload_rag_modules\n",
    "reload_rag_modules()\n",
    "if __name__ == \"__main__\" or 'ipykernel' in sys.modules:\n",
    "    main()\n",
    "    "
   ]
  },
  {
   "cell_type": "code",
   "execution_count": null,
   "metadata": {},
   "outputs": [],
   "source": []
  }
 ],
 "metadata": {
  "kernelspec": {
   "display_name": "Python 3 (ipykernel)",
   "language": "python",
   "name": "python3"
  },
  "language_info": {
   "codemirror_mode": {
    "name": "ipython",
    "version": 3
   },
   "file_extension": ".py",
   "mimetype": "text/x-python",
   "name": "python",
   "nbconvert_exporter": "python",
   "pygments_lexer": "ipython3",
   "version": "3.12.7"
  }
 },
 "nbformat": 4,
 "nbformat_minor": 4
}
