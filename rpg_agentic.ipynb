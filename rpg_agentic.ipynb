{
 "cells": [
  {
   "cell_type": "markdown",
   "metadata": {},
   "source": [
    "# Medieval Chronicles: The Fallen Knight\n",
    "\n",
    "This notebook runs a text-based RPG game with RAG-based historical context."
   ]
  },
  {
   "cell_type": "markdown",
   "metadata": {},
   "source": [
    "## Setup and Imports"
   ]
  },
  {
   "cell_type": "code",
   "execution_count": 2,
   "metadata": {},
   "outputs": [
    {
     "data": {
      "text/plain": [
       "True"
      ]
     },
     "execution_count": 2,
     "metadata": {},
     "output_type": "execute_result"
    }
   ],
   "source": [
    "import os\n",
    "import json\n",
    "from dotenv import load_dotenv\n",
    "\n",
    "from rpg_game.orchestrator.game_orchestrator import GameOrchestrator\n",
    "from rpg_game.rag.retriever import RAGRetriever, load_sample_data\n",
    "\n",
    "# Load environment variables\n",
    "load_dotenv()"
   ]
  },
  {
   "cell_type": "markdown",
   "metadata": {},
   "source": [
    "## RAG System Setup\n",
    "\n",
    "Set up the Retrieval-Augmented Generation system with historical data."
   ]
  },
  {
   "cell_type": "code",
   "execution_count": 3,
   "metadata": {},
   "outputs": [],
   "source": [
    "def setup_rag_system():\n",
    "    \"\"\"Set up the RAG system with historical data\"\"\"\n",
    "    print(\"Setting up RAG system with historical data...\")\n",
    "    \n",
    "    # Create data directory if it doesn't exist\n",
    "    os.makedirs(\"./data/vector_db\", exist_ok=True)\n",
    "    \n",
    "    # Initialize RAG retriever\n",
    "    retriever = RAGRetriever()\n",
    "    \n",
    "    # Load sample historical data\n",
    "    historical_data = load_sample_data(\"./data/historical_data.json\")\n",
    "    \n",
    "    if historical_data:\n",
    "        # Add documents to vector database\n",
    "        retriever.add_documents(historical_data)\n",
    "        print(f\"Added {len(historical_data)} historical documents to RAG system\")\n",
    "    else:\n",
    "        print(\"No historical data found or error loading data\")\n",
    "    \n",
    "    return retriever"
   ]
  },
  {
   "cell_type": "markdown",
   "metadata": {},
   "source": [
    "## Game Loop\n",
    "\n",
    "The main game loop for the text-based RPG."
   ]
  },
  {
   "cell_type": "code",
   "execution_count": 4,
   "metadata": {},
   "outputs": [],
   "source": [
    "def text_based_game_loop():\n",
    "    \"\"\"Run a simple text-based version of the game\"\"\"\n",
    "    # Set up RAG system\n",
    "    setup_rag_system()\n",
    "    \n",
    "    # Initialize game orchestrator\n",
    "    game = GameOrchestrator()\n",
    "    \n",
    "    # Start the game\n",
    "    player_name = input(\"Enter your character's name: \")\n",
    "    current_scene = game.start_game(player_name)\n",
    "    \n",
    "    print(\"\\n\" + \"=\" * 50)\n",
    "    print(f\"Welcome to Medieval Chronicles: The Fallen Knight, {player_name}!\")\n",
    "    print(\"You are accompanied by Ser Elyen, a fallen knight seeking redemption.\")\n",
    "    print(\"=\" * 50 + \"\\n\")\n",
    "    \n",
    "    # Game loop\n",
    "    while True:\n",
    "        # Display current scene\n",
    "        print(f\"\\n== {current_scene['title']} ==\\n\")\n",
    "        print(current_scene['description'])\n",
    "        print(\"\\n\")\n",
    "        \n",
    "        # Display historical context if available\n",
    "        if current_scene.get('historical_context'):\n",
    "            print(\"Historical Context:\")\n",
    "            for item in current_scene['historical_context']:\n",
    "                print(f\"- {item['title']}: {item['text'][:100]}...\")\n",
    "            print(\"\\n\")\n",
    "        \n",
    "        # Display player alignment\n",
    "        alignment = current_scene['player_scores']['alignment']\n",
    "        relationship = current_scene['player_scores']['relationship']\n",
    "        print(f\"Alignment: {alignment['description']} ({alignment['law_chaos']}/{alignment['good_evil']})\")\n",
    "        print(f\"Relationship with Ser Elyen: {relationship['description']} ({relationship['trust']}/100)\")\n",
    "        print(\"\\n\")\n",
    "        \n",
    "        # Display action choices\n",
    "        print(\"What will you do?\")\n",
    "        for i, action in enumerate(current_scene['actions']):\n",
    "            print(f\"{chr(65+i)}) {action}\")\n",
    "        \n",
    "        # Get player choice\n",
    "        while True:\n",
    "            choice = input(\"\\nEnter your choice (A, B, C, D): \").upper()\n",
    "            if choice in ['A', 'B', 'C', 'D']:\n",
    "                action_index = ord(choice) - ord('A')\n",
    "                if action_index < len(current_scene['actions']):\n",
    "                    break\n",
    "            print(\"Invalid choice. Please try again.\")\n",
    "        \n",
    "        # Process player action\n",
    "        action_result = game.process_player_action(action_index)\n",
    "        \n",
    "        # Display agent response\n",
    "        print(\"\\n\" + \"-\" * 50)\n",
    "        print(f\"Ser Elyen: {action_result['agent_response']}\")\n",
    "        print(\"-\" * 50 + \"\\n\")\n",
    "        \n",
    "        # Check if game should continue\n",
    "        if action_result['has_next_scene']:\n",
    "            # Advance to next scene\n",
    "            current_scene = game.advance_to_next_scene()\n",
    "        else:\n",
    "            # End of game or branch\n",
    "            print(\"\\nYou have reached the end of this path.\")\n",
    "            if input(\"Would you like to save your progress? (y/n): \").lower() == 'y':\n",
    "                game.save_game()\n",
    "                print(\"Game saved.\")\n",
    "            \n",
    "            if input(\"Would you like to continue exploring? (y/n): \").lower() != 'y':\n",
    "                break\n",
    "            \n",
    "            # Return to a previous scene for exploration\n",
    "            current_scene = game.get_current_scene()\n",
    "    \n",
    "    print(\"\\nThank you for playing Medieval Chronicles: The Fallen Knight!\")"
   ]
  },
  {
   "cell_type": "markdown",
   "metadata": {},
   "source": [
    "## API Key Check and Main Function\n",
    "\n",
    "Check for the AI21 API key and provide a way to set it if missing."
   ]
  },
  {
   "cell_type": "code",
   "execution_count": 5,
   "metadata": {},
   "outputs": [],
   "source": [
    "def main():\n",
    "    \"\"\"Main entry point\"\"\"\n",
    "    # Check if AI21 API key is set\n",
    "    if not os.getenv('AI21_API_KEY'):\n",
    "        print(\"WARNING: AI21_API_KEY environment variable is not set.\")\n",
    "        print(\"Please set your AI21 API key in a .env file or environment variable.\")\n",
    "        api_key = input(\"Enter your AI21 API key to continue: \")\n",
    "        os.environ['AI21_API_KEY'] = api_key\n",
    "    \n",
    "    # Run the game\n",
    "    text_based_game_loop()"
   ]
  },
  {
   "cell_type": "markdown",
   "metadata": {},
   "source": [
    "## Run the Game\n",
    "\n",
    "Execute this cell to start the game."
   ]
  },
  {
   "cell_type": "code",
   "execution_count": 7,
   "metadata": {},
   "outputs": [
    {
     "name": "stdout",
     "output_type": "stream",
     "text": [
      "Setting up RAG system with historical data...\n",
      "Loaded vector database with 10 documents\n",
      "Added 10 documents to vector database\n",
      "Added 10 historical documents to RAG system\n",
      "Loaded vector database with 20 documents\n",
      "Loaded 5 scenes from game data\n"
     ]
    },
    {
     "name": "stdin",
     "output_type": "stream",
     "text": [
      "Enter your character's name:  Eddie\n"
     ]
    },
    {
     "ename": "ValueError",
     "evalue": "Expected where operator to be one of $gt, $gte, $lt, $lte, $ne, $eq, $in, $nin, got $contains in query.",
     "output_type": "error",
     "traceback": [
      "\u001b[31m---------------------------------------------------------------------------\u001b[39m",
      "\u001b[31mValueError\u001b[39m                                Traceback (most recent call last)",
      "\u001b[36mFile \u001b[39m\u001b[32m~/dungeon/rpg_venv/lib/python3.12/site-packages/chromadb/api/models/CollectionCommon.py:90\u001b[39m, in \u001b[36mvalidation_context.<locals>.decorator.<locals>.wrapper\u001b[39m\u001b[34m(self, *args, **kwargs)\u001b[39m\n\u001b[32m     89\u001b[39m \u001b[38;5;28;01mtry\u001b[39;00m:\n\u001b[32m---> \u001b[39m\u001b[32m90\u001b[39m     \u001b[38;5;28;01mreturn\u001b[39;00m \u001b[43mfunc\u001b[49m\u001b[43m(\u001b[49m\u001b[38;5;28;43mself\u001b[39;49m\u001b[43m,\u001b[49m\u001b[43m \u001b[49m\u001b[43m*\u001b[49m\u001b[43margs\u001b[49m\u001b[43m,\u001b[49m\u001b[43m \u001b[49m\u001b[43m*\u001b[49m\u001b[43m*\u001b[49m\u001b[43mkwargs\u001b[49m\u001b[43m)\u001b[49m\n\u001b[32m     91\u001b[39m \u001b[38;5;28;01mexcept\u001b[39;00m \u001b[38;5;167;01mException\u001b[39;00m \u001b[38;5;28;01mas\u001b[39;00m e:\n",
      "\u001b[36mFile \u001b[39m\u001b[32m~/dungeon/rpg_venv/lib/python3.12/site-packages/chromadb/api/models/CollectionCommon.py:294\u001b[39m, in \u001b[36mCollectionCommon._validate_and_prepare_query_request\u001b[39m\u001b[34m(self, query_embeddings, query_texts, query_images, query_uris, n_results, where, where_document, include)\u001b[39m\n\u001b[32m    293\u001b[39m validate_base_record_set(record_set=query_records)\n\u001b[32m--> \u001b[39m\u001b[32m294\u001b[39m \u001b[43mvalidate_filter_set\u001b[49m\u001b[43m(\u001b[49m\u001b[43mfilter_set\u001b[49m\u001b[43m=\u001b[49m\u001b[43mfilters\u001b[49m\u001b[43m)\u001b[49m\n\u001b[32m    295\u001b[39m validate_include(include=include)\n",
      "\u001b[36mFile \u001b[39m\u001b[32m~/dungeon/rpg_venv/lib/python3.12/site-packages/chromadb/api/types.py:345\u001b[39m, in \u001b[36mvalidate_filter_set\u001b[39m\u001b[34m(filter_set)\u001b[39m\n\u001b[32m    344\u001b[39m \u001b[38;5;28;01mif\u001b[39;00m filter_set[\u001b[33m\"\u001b[39m\u001b[33mwhere\u001b[39m\u001b[33m\"\u001b[39m] \u001b[38;5;129;01mis\u001b[39;00m \u001b[38;5;129;01mnot\u001b[39;00m \u001b[38;5;28;01mNone\u001b[39;00m:\n\u001b[32m--> \u001b[39m\u001b[32m345\u001b[39m     \u001b[43mvalidate_where\u001b[49m\u001b[43m(\u001b[49m\u001b[43mfilter_set\u001b[49m\u001b[43m[\u001b[49m\u001b[33;43m\"\u001b[39;49m\u001b[33;43mwhere\u001b[39;49m\u001b[33;43m\"\u001b[39;49m\u001b[43m]\u001b[49m\u001b[43m)\u001b[49m\n\u001b[32m    346\u001b[39m \u001b[38;5;28;01mif\u001b[39;00m filter_set[\u001b[33m\"\u001b[39m\u001b[33mwhere_document\u001b[39m\u001b[33m\"\u001b[39m] \u001b[38;5;129;01mis\u001b[39;00m \u001b[38;5;129;01mnot\u001b[39;00m \u001b[38;5;28;01mNone\u001b[39;00m:\n",
      "\u001b[36mFile \u001b[39m\u001b[32m~/dungeon/rpg_venv/lib/python3.12/site-packages/chromadb/api/types.py:659\u001b[39m, in \u001b[36mvalidate_where\u001b[39m\u001b[34m(where)\u001b[39m\n\u001b[32m    649\u001b[39m \u001b[38;5;28;01mif\u001b[39;00m operator \u001b[38;5;129;01mnot\u001b[39;00m \u001b[38;5;129;01min\u001b[39;00m [\n\u001b[32m    650\u001b[39m     \u001b[33m\"\u001b[39m\u001b[33m$gt\u001b[39m\u001b[33m\"\u001b[39m,\n\u001b[32m    651\u001b[39m     \u001b[33m\"\u001b[39m\u001b[33m$gte\u001b[39m\u001b[33m\"\u001b[39m,\n\u001b[32m   (...)\u001b[39m\u001b[32m    657\u001b[39m     \u001b[33m\"\u001b[39m\u001b[33m$nin\u001b[39m\u001b[33m\"\u001b[39m,\n\u001b[32m    658\u001b[39m ]:\n\u001b[32m--> \u001b[39m\u001b[32m659\u001b[39m     \u001b[38;5;28;01mraise\u001b[39;00m \u001b[38;5;167;01mValueError\u001b[39;00m(\n\u001b[32m    660\u001b[39m         \u001b[33mf\u001b[39m\u001b[33m\"\u001b[39m\u001b[33mExpected where operator to be one of $gt, $gte, $lt, $lte, $ne, $eq, $in, $nin, \u001b[39m\u001b[33m\"\u001b[39m\n\u001b[32m    661\u001b[39m         \u001b[33mf\u001b[39m\u001b[33m\"\u001b[39m\u001b[33mgot \u001b[39m\u001b[38;5;132;01m{\u001b[39;00moperator\u001b[38;5;132;01m}\u001b[39;00m\u001b[33m\"\u001b[39m\n\u001b[32m    662\u001b[39m     )\n\u001b[32m    664\u001b[39m \u001b[38;5;28;01mif\u001b[39;00m \u001b[38;5;129;01mnot\u001b[39;00m \u001b[38;5;28misinstance\u001b[39m(operand, (\u001b[38;5;28mstr\u001b[39m, \u001b[38;5;28mint\u001b[39m, \u001b[38;5;28mfloat\u001b[39m, \u001b[38;5;28mlist\u001b[39m)):\n",
      "\u001b[31mValueError\u001b[39m: Expected where operator to be one of $gt, $gte, $lt, $lte, $ne, $eq, $in, $nin, got $contains",
      "\nDuring handling of the above exception, another exception occurred:\n",
      "\u001b[31mValueError\u001b[39m                                Traceback (most recent call last)",
      "\u001b[36mCell\u001b[39m\u001b[36m \u001b[39m\u001b[32mIn[7]\u001b[39m\u001b[32m, line 2\u001b[39m\n\u001b[32m      1\u001b[39m \u001b[38;5;28;01mif\u001b[39;00m \u001b[34m__name__\u001b[39m == \u001b[33m\"\u001b[39m\u001b[33m__main__\u001b[39m\u001b[33m\"\u001b[39m \u001b[38;5;129;01mor\u001b[39;00m \u001b[33m'\u001b[39m\u001b[33mipykernel\u001b[39m\u001b[33m'\u001b[39m \u001b[38;5;129;01min\u001b[39;00m sys.modules:\n\u001b[32m----> \u001b[39m\u001b[32m2\u001b[39m     \u001b[43mmain\u001b[49m\u001b[43m(\u001b[49m\u001b[43m)\u001b[49m\n",
      "\u001b[36mCell\u001b[39m\u001b[36m \u001b[39m\u001b[32mIn[5]\u001b[39m\u001b[32m, line 11\u001b[39m, in \u001b[36mmain\u001b[39m\u001b[34m()\u001b[39m\n\u001b[32m      8\u001b[39m     os.environ[\u001b[33m'\u001b[39m\u001b[33mAI21_API_KEY\u001b[39m\u001b[33m'\u001b[39m] = api_key\n\u001b[32m     10\u001b[39m \u001b[38;5;66;03m# Run the game\u001b[39;00m\n\u001b[32m---> \u001b[39m\u001b[32m11\u001b[39m \u001b[43mtext_based_game_loop\u001b[49m\u001b[43m(\u001b[49m\u001b[43m)\u001b[49m\n",
      "\u001b[36mCell\u001b[39m\u001b[36m \u001b[39m\u001b[32mIn[4]\u001b[39m\u001b[32m, line 11\u001b[39m, in \u001b[36mtext_based_game_loop\u001b[39m\u001b[34m()\u001b[39m\n\u001b[32m      9\u001b[39m \u001b[38;5;66;03m# Start the game\u001b[39;00m\n\u001b[32m     10\u001b[39m player_name = \u001b[38;5;28minput\u001b[39m(\u001b[33m\"\u001b[39m\u001b[33mEnter your character\u001b[39m\u001b[33m'\u001b[39m\u001b[33ms name: \u001b[39m\u001b[33m\"\u001b[39m)\n\u001b[32m---> \u001b[39m\u001b[32m11\u001b[39m current_scene = \u001b[43mgame\u001b[49m\u001b[43m.\u001b[49m\u001b[43mstart_game\u001b[49m\u001b[43m(\u001b[49m\u001b[43mplayer_name\u001b[49m\u001b[43m)\u001b[49m\n\u001b[32m     13\u001b[39m \u001b[38;5;28mprint\u001b[39m(\u001b[33m\"\u001b[39m\u001b[38;5;130;01m\\n\u001b[39;00m\u001b[33m\"\u001b[39m + \u001b[33m\"\u001b[39m\u001b[33m=\u001b[39m\u001b[33m\"\u001b[39m * \u001b[32m50\u001b[39m)\n\u001b[32m     14\u001b[39m \u001b[38;5;28mprint\u001b[39m(\u001b[33mf\u001b[39m\u001b[33m\"\u001b[39m\u001b[33mWelcome to Medieval Chronicles: The Fallen Knight, \u001b[39m\u001b[38;5;132;01m{\u001b[39;00mplayer_name\u001b[38;5;132;01m}\u001b[39;00m\u001b[33m!\u001b[39m\u001b[33m\"\u001b[39m)\n",
      "\u001b[36mFile \u001b[39m\u001b[32m~/dungeon/rpg_game/orchestrator/game_orchestrator.py:93\u001b[39m, in \u001b[36mGameOrchestrator.start_game\u001b[39m\u001b[34m(self, player_name)\u001b[39m\n\u001b[32m     90\u001b[39m     \u001b[38;5;28mself\u001b[39m.current_scene_id = \u001b[38;5;28mlist\u001b[39m(\u001b[38;5;28mself\u001b[39m.scenes.keys())[\u001b[32m0\u001b[39m]\n\u001b[32m     92\u001b[39m \u001b[38;5;66;03m# Get the initial scene\u001b[39;00m\n\u001b[32m---> \u001b[39m\u001b[32m93\u001b[39m \u001b[38;5;28;01mreturn\u001b[39;00m \u001b[38;5;28;43mself\u001b[39;49m\u001b[43m.\u001b[49m\u001b[43mget_current_scene\u001b[49m\u001b[43m(\u001b[49m\u001b[43m)\u001b[49m\n",
      "\u001b[36mFile \u001b[39m\u001b[32m~/dungeon/rpg_game/orchestrator/game_orchestrator.py:119\u001b[39m, in \u001b[36mGameOrchestrator.get_current_scene\u001b[39m\u001b[34m(self)\u001b[39m\n\u001b[32m    117\u001b[39m historical_context = []\n\u001b[32m    118\u001b[39m \u001b[38;5;28;01mif\u001b[39;00m \u001b[33m\"\u001b[39m\u001b[33mrag_context_query\u001b[39m\u001b[33m\"\u001b[39m \u001b[38;5;129;01min\u001b[39;00m scene:\n\u001b[32m--> \u001b[39m\u001b[32m119\u001b[39m     historical_context = \u001b[38;5;28;43mself\u001b[39;49m\u001b[43m.\u001b[49m\u001b[43mrag_retriever\u001b[49m\u001b[43m.\u001b[49m\u001b[43mretrieve\u001b[49m\u001b[43m(\u001b[49m\n\u001b[32m    120\u001b[39m \u001b[43m        \u001b[49m\u001b[43mquery\u001b[49m\u001b[43m=\u001b[49m\u001b[43mscene\u001b[49m\u001b[43m[\u001b[49m\u001b[33;43m\"\u001b[39;49m\u001b[33;43mrag_context_query\u001b[39;49m\u001b[33;43m\"\u001b[39;49m\u001b[43m]\u001b[49m\u001b[43m,\u001b[49m\n\u001b[32m    121\u001b[39m \u001b[43m        \u001b[49m\u001b[43mfilter_tags\u001b[49m\u001b[43m=\u001b[49m\u001b[43mscene\u001b[49m\u001b[43m.\u001b[49m\u001b[43mget\u001b[49m\u001b[43m(\u001b[49m\u001b[33;43m\"\u001b[39;49m\u001b[33;43mrag_filter_tags\u001b[39;49m\u001b[33;43m\"\u001b[39;49m\u001b[43m,\u001b[49m\u001b[43m \u001b[49m\u001b[38;5;28;43;01mNone\u001b[39;49;00m\u001b[43m)\u001b[49m\n\u001b[32m    122\u001b[39m \u001b[43m    \u001b[49m\u001b[43m)\u001b[49m\n\u001b[32m    124\u001b[39m \u001b[38;5;66;03m# Generate action choices using the LLM agent\u001b[39;00m\n\u001b[32m    125\u001b[39m scene_context = {\n\u001b[32m    126\u001b[39m     \u001b[33m\"\u001b[39m\u001b[33mdescription\u001b[39m\u001b[33m\"\u001b[39m: scene[\u001b[33m\"\u001b[39m\u001b[33mdescription\u001b[39m\u001b[33m\"\u001b[39m],\n\u001b[32m    127\u001b[39m     \u001b[33m\"\u001b[39m\u001b[33mlocation\u001b[39m\u001b[33m\"\u001b[39m: scene.get(\u001b[33m\"\u001b[39m\u001b[33mlocation\u001b[39m\u001b[33m\"\u001b[39m, \u001b[33m\"\u001b[39m\u001b[33m\"\u001b[39m),\n\u001b[32m    128\u001b[39m     \u001b[33m\"\u001b[39m\u001b[33mtime_of_day\u001b[39m\u001b[33m\"\u001b[39m: \u001b[38;5;28mself\u001b[39m.game_state[\u001b[33m\"\u001b[39m\u001b[33mtime_of_day\u001b[39m\u001b[33m\"\u001b[39m]\n\u001b[32m    129\u001b[39m }\n",
      "\u001b[36mFile \u001b[39m\u001b[32m~/dungeon/rpg_game/rag/retriever.py:87\u001b[39m, in \u001b[36mRAGRetriever.retrieve\u001b[39m\u001b[34m(self, query, top_k, filter_tags)\u001b[39m\n\u001b[32m     84\u001b[39m     filter_dict = {\u001b[33m\"\u001b[39m\u001b[33mtags\u001b[39m\u001b[33m\"\u001b[39m: {\u001b[33m\"\u001b[39m\u001b[33m$contains\u001b[39m\u001b[33m\"\u001b[39m: tag_str}}\n\u001b[32m     86\u001b[39m \u001b[38;5;66;03m# Retrieve documents\u001b[39;00m\n\u001b[32m---> \u001b[39m\u001b[32m87\u001b[39m docs = \u001b[38;5;28;43mself\u001b[39;49m\u001b[43m.\u001b[49m\u001b[43mvectordb\u001b[49m\u001b[43m.\u001b[49m\u001b[43msimilarity_search\u001b[49m\u001b[43m(\u001b[49m\n\u001b[32m     88\u001b[39m \u001b[43m    \u001b[49m\u001b[43mquery\u001b[49m\u001b[43m=\u001b[49m\u001b[43mquery\u001b[49m\u001b[43m,\u001b[49m\n\u001b[32m     89\u001b[39m \u001b[43m    \u001b[49m\u001b[43mk\u001b[49m\u001b[43m=\u001b[49m\u001b[43mtop_k\u001b[49m\u001b[43m,\u001b[49m\n\u001b[32m     90\u001b[39m \u001b[43m    \u001b[49m\u001b[38;5;28;43mfilter\u001b[39;49m\u001b[43m=\u001b[49m\u001b[43mfilter_dict\u001b[49m\n\u001b[32m     91\u001b[39m \u001b[43m\u001b[49m\u001b[43m)\u001b[49m\n\u001b[32m     93\u001b[39m \u001b[38;5;66;03m# Format results\u001b[39;00m\n\u001b[32m     94\u001b[39m results = []\n",
      "\u001b[36mFile \u001b[39m\u001b[32m~/dungeon/rpg_venv/lib/python3.12/site-packages/langchain_community/vectorstores/chroma.py:350\u001b[39m, in \u001b[36mChroma.similarity_search\u001b[39m\u001b[34m(self, query, k, filter, **kwargs)\u001b[39m\n\u001b[32m    333\u001b[39m \u001b[38;5;28;01mdef\u001b[39;00m\u001b[38;5;250m \u001b[39m\u001b[34msimilarity_search\u001b[39m(\n\u001b[32m    334\u001b[39m     \u001b[38;5;28mself\u001b[39m,\n\u001b[32m    335\u001b[39m     query: \u001b[38;5;28mstr\u001b[39m,\n\u001b[32m   (...)\u001b[39m\u001b[32m    338\u001b[39m     **kwargs: Any,\n\u001b[32m    339\u001b[39m ) -> List[Document]:\n\u001b[32m    340\u001b[39m \u001b[38;5;250m    \u001b[39m\u001b[33;03m\"\"\"Run similarity search with Chroma.\u001b[39;00m\n\u001b[32m    341\u001b[39m \n\u001b[32m    342\u001b[39m \u001b[33;03m    Args:\u001b[39;00m\n\u001b[32m   (...)\u001b[39m\u001b[32m    348\u001b[39m \u001b[33;03m        List[Document]: List of documents most similar to the query text.\u001b[39;00m\n\u001b[32m    349\u001b[39m \u001b[33;03m    \"\"\"\u001b[39;00m\n\u001b[32m--> \u001b[39m\u001b[32m350\u001b[39m     docs_and_scores = \u001b[38;5;28;43mself\u001b[39;49m\u001b[43m.\u001b[49m\u001b[43msimilarity_search_with_score\u001b[49m\u001b[43m(\u001b[49m\n\u001b[32m    351\u001b[39m \u001b[43m        \u001b[49m\u001b[43mquery\u001b[49m\u001b[43m,\u001b[49m\u001b[43m \u001b[49m\u001b[43mk\u001b[49m\u001b[43m,\u001b[49m\u001b[43m \u001b[49m\u001b[38;5;28;43mfilter\u001b[39;49m\u001b[43m=\u001b[49m\u001b[38;5;28;43mfilter\u001b[39;49m\u001b[43m,\u001b[49m\u001b[43m \u001b[49m\u001b[43m*\u001b[49m\u001b[43m*\u001b[49m\u001b[43mkwargs\u001b[49m\n\u001b[32m    352\u001b[39m \u001b[43m    \u001b[49m\u001b[43m)\u001b[49m\n\u001b[32m    353\u001b[39m     \u001b[38;5;28;01mreturn\u001b[39;00m [doc \u001b[38;5;28;01mfor\u001b[39;00m doc, _ \u001b[38;5;129;01min\u001b[39;00m docs_and_scores]\n",
      "\u001b[36mFile \u001b[39m\u001b[32m~/dungeon/rpg_venv/lib/python3.12/site-packages/langchain_community/vectorstores/chroma.py:440\u001b[39m, in \u001b[36mChroma.similarity_search_with_score\u001b[39m\u001b[34m(self, query, k, filter, where_document, **kwargs)\u001b[39m\n\u001b[32m    438\u001b[39m \u001b[38;5;28;01melse\u001b[39;00m:\n\u001b[32m    439\u001b[39m     query_embedding = \u001b[38;5;28mself\u001b[39m._embedding_function.embed_query(query)\n\u001b[32m--> \u001b[39m\u001b[32m440\u001b[39m     results = \u001b[38;5;28;43mself\u001b[39;49m\u001b[43m.\u001b[49m\u001b[43m__query_collection\u001b[49m\u001b[43m(\u001b[49m\n\u001b[32m    441\u001b[39m \u001b[43m        \u001b[49m\u001b[43mquery_embeddings\u001b[49m\u001b[43m=\u001b[49m\u001b[43m[\u001b[49m\u001b[43mquery_embedding\u001b[49m\u001b[43m]\u001b[49m\u001b[43m,\u001b[49m\n\u001b[32m    442\u001b[39m \u001b[43m        \u001b[49m\u001b[43mn_results\u001b[49m\u001b[43m=\u001b[49m\u001b[43mk\u001b[49m\u001b[43m,\u001b[49m\n\u001b[32m    443\u001b[39m \u001b[43m        \u001b[49m\u001b[43mwhere\u001b[49m\u001b[43m=\u001b[49m\u001b[38;5;28;43mfilter\u001b[39;49m\u001b[43m,\u001b[49m\n\u001b[32m    444\u001b[39m \u001b[43m        \u001b[49m\u001b[43mwhere_document\u001b[49m\u001b[43m=\u001b[49m\u001b[43mwhere_document\u001b[49m\u001b[43m,\u001b[49m\n\u001b[32m    445\u001b[39m \u001b[43m        \u001b[49m\u001b[43m*\u001b[49m\u001b[43m*\u001b[49m\u001b[43mkwargs\u001b[49m\u001b[43m,\u001b[49m\n\u001b[32m    446\u001b[39m \u001b[43m    \u001b[49m\u001b[43m)\u001b[49m\n\u001b[32m    448\u001b[39m \u001b[38;5;28;01mreturn\u001b[39;00m _results_to_docs_and_scores(results)\n",
      "\u001b[36mFile \u001b[39m\u001b[32m~/dungeon/rpg_venv/lib/python3.12/site-packages/langchain_core/utils/utils.py:53\u001b[39m, in \u001b[36mxor_args.<locals>.decorator.<locals>.wrapper\u001b[39m\u001b[34m(*args, **kwargs)\u001b[39m\n\u001b[32m     47\u001b[39m     msg = (\n\u001b[32m     48\u001b[39m         \u001b[33m\"\u001b[39m\u001b[33mExactly one argument in each of the following\u001b[39m\u001b[33m\"\u001b[39m\n\u001b[32m     49\u001b[39m         \u001b[33m\"\u001b[39m\u001b[33m groups must be defined:\u001b[39m\u001b[33m\"\u001b[39m\n\u001b[32m     50\u001b[39m         \u001b[33mf\u001b[39m\u001b[33m\"\u001b[39m\u001b[33m \u001b[39m\u001b[38;5;132;01m{\u001b[39;00m\u001b[33m'\u001b[39m\u001b[33m, \u001b[39m\u001b[33m'\u001b[39m.join(invalid_group_names)\u001b[38;5;132;01m}\u001b[39;00m\u001b[33m\"\u001b[39m\n\u001b[32m     51\u001b[39m     )\n\u001b[32m     52\u001b[39m     \u001b[38;5;28;01mraise\u001b[39;00m \u001b[38;5;167;01mValueError\u001b[39;00m(msg)\n\u001b[32m---> \u001b[39m\u001b[32m53\u001b[39m \u001b[38;5;28;01mreturn\u001b[39;00m \u001b[43mfunc\u001b[49m\u001b[43m(\u001b[49m\u001b[43m*\u001b[49m\u001b[43margs\u001b[49m\u001b[43m,\u001b[49m\u001b[43m \u001b[49m\u001b[43m*\u001b[49m\u001b[43m*\u001b[49m\u001b[43mkwargs\u001b[49m\u001b[43m)\u001b[49m\n",
      "\u001b[36mFile \u001b[39m\u001b[32m~/dungeon/rpg_venv/lib/python3.12/site-packages/langchain_community/vectorstores/chroma.py:157\u001b[39m, in \u001b[36mChroma.__query_collection\u001b[39m\u001b[34m(self, query_texts, query_embeddings, n_results, where, where_document, **kwargs)\u001b[39m\n\u001b[32m    152\u001b[39m \u001b[38;5;28;01mexcept\u001b[39;00m \u001b[38;5;167;01mImportError\u001b[39;00m:\n\u001b[32m    153\u001b[39m     \u001b[38;5;28;01mraise\u001b[39;00m \u001b[38;5;167;01mImportError\u001b[39;00m(\n\u001b[32m    154\u001b[39m         \u001b[33m\"\u001b[39m\u001b[33mCould not import chromadb python package. \u001b[39m\u001b[33m\"\u001b[39m\n\u001b[32m    155\u001b[39m         \u001b[33m\"\u001b[39m\u001b[33mPlease install it with `pip install chromadb`.\u001b[39m\u001b[33m\"\u001b[39m\n\u001b[32m    156\u001b[39m     )\n\u001b[32m--> \u001b[39m\u001b[32m157\u001b[39m \u001b[38;5;28;01mreturn\u001b[39;00m \u001b[38;5;28;43mself\u001b[39;49m\u001b[43m.\u001b[49m\u001b[43m_collection\u001b[49m\u001b[43m.\u001b[49m\u001b[43mquery\u001b[49m\u001b[43m(\u001b[49m\u001b[43m  \u001b[49m\u001b[38;5;66;43;03m# type: ignore[return-value]\u001b[39;49;00m\n\u001b[32m    158\u001b[39m \u001b[43m    \u001b[49m\u001b[43mquery_texts\u001b[49m\u001b[43m=\u001b[49m\u001b[43mquery_texts\u001b[49m\u001b[43m,\u001b[49m\n\u001b[32m    159\u001b[39m \u001b[43m    \u001b[49m\u001b[43mquery_embeddings\u001b[49m\u001b[43m=\u001b[49m\u001b[43mquery_embeddings\u001b[49m\u001b[43m,\u001b[49m\u001b[43m  \u001b[49m\u001b[38;5;66;43;03m# type: ignore[arg-type]\u001b[39;49;00m\n\u001b[32m    160\u001b[39m \u001b[43m    \u001b[49m\u001b[43mn_results\u001b[49m\u001b[43m=\u001b[49m\u001b[43mn_results\u001b[49m\u001b[43m,\u001b[49m\n\u001b[32m    161\u001b[39m \u001b[43m    \u001b[49m\u001b[43mwhere\u001b[49m\u001b[43m=\u001b[49m\u001b[43mwhere\u001b[49m\u001b[43m,\u001b[49m\u001b[43m  \u001b[49m\u001b[38;5;66;43;03m# type: ignore[arg-type]\u001b[39;49;00m\n\u001b[32m    162\u001b[39m \u001b[43m    \u001b[49m\u001b[43mwhere_document\u001b[49m\u001b[43m=\u001b[49m\u001b[43mwhere_document\u001b[49m\u001b[43m,\u001b[49m\u001b[43m  \u001b[49m\u001b[38;5;66;43;03m# type: ignore[arg-type]\u001b[39;49;00m\n\u001b[32m    163\u001b[39m \u001b[43m    \u001b[49m\u001b[43m*\u001b[49m\u001b[43m*\u001b[49m\u001b[43mkwargs\u001b[49m\u001b[43m,\u001b[49m\n\u001b[32m    164\u001b[39m \u001b[43m\u001b[49m\u001b[43m)\u001b[49m\n",
      "\u001b[36mFile \u001b[39m\u001b[32m~/dungeon/rpg_venv/lib/python3.12/site-packages/chromadb/api/models/Collection.py:211\u001b[39m, in \u001b[36mCollection.query\u001b[39m\u001b[34m(self, query_embeddings, query_texts, query_images, query_uris, n_results, where, where_document, include)\u001b[39m\n\u001b[32m    168\u001b[39m \u001b[38;5;28;01mdef\u001b[39;00m\u001b[38;5;250m \u001b[39m\u001b[34mquery\u001b[39m(\n\u001b[32m    169\u001b[39m     \u001b[38;5;28mself\u001b[39m,\n\u001b[32m    170\u001b[39m     query_embeddings: Optional[\n\u001b[32m   (...)\u001b[39m\u001b[32m    186\u001b[39m     ],\n\u001b[32m    187\u001b[39m ) -> QueryResult:\n\u001b[32m    188\u001b[39m \u001b[38;5;250m    \u001b[39m\u001b[33;03m\"\"\"Get the n_results nearest neighbor embeddings for provided query_embeddings or query_texts.\u001b[39;00m\n\u001b[32m    189\u001b[39m \n\u001b[32m    190\u001b[39m \u001b[33;03m    Args:\u001b[39;00m\n\u001b[32m   (...)\u001b[39m\u001b[32m    208\u001b[39m \n\u001b[32m    209\u001b[39m \u001b[33;03m    \"\"\"\u001b[39;00m\n\u001b[32m--> \u001b[39m\u001b[32m211\u001b[39m     query_request = \u001b[38;5;28;43mself\u001b[39;49m\u001b[43m.\u001b[49m\u001b[43m_validate_and_prepare_query_request\u001b[49m\u001b[43m(\u001b[49m\n\u001b[32m    212\u001b[39m \u001b[43m        \u001b[49m\u001b[43mquery_embeddings\u001b[49m\u001b[43m=\u001b[49m\u001b[43mquery_embeddings\u001b[49m\u001b[43m,\u001b[49m\n\u001b[32m    213\u001b[39m \u001b[43m        \u001b[49m\u001b[43mquery_texts\u001b[49m\u001b[43m=\u001b[49m\u001b[43mquery_texts\u001b[49m\u001b[43m,\u001b[49m\n\u001b[32m    214\u001b[39m \u001b[43m        \u001b[49m\u001b[43mquery_images\u001b[49m\u001b[43m=\u001b[49m\u001b[43mquery_images\u001b[49m\u001b[43m,\u001b[49m\n\u001b[32m    215\u001b[39m \u001b[43m        \u001b[49m\u001b[43mquery_uris\u001b[49m\u001b[43m=\u001b[49m\u001b[43mquery_uris\u001b[49m\u001b[43m,\u001b[49m\n\u001b[32m    216\u001b[39m \u001b[43m        \u001b[49m\u001b[43mn_results\u001b[49m\u001b[43m=\u001b[49m\u001b[43mn_results\u001b[49m\u001b[43m,\u001b[49m\n\u001b[32m    217\u001b[39m \u001b[43m        \u001b[49m\u001b[43mwhere\u001b[49m\u001b[43m=\u001b[49m\u001b[43mwhere\u001b[49m\u001b[43m,\u001b[49m\n\u001b[32m    218\u001b[39m \u001b[43m        \u001b[49m\u001b[43mwhere_document\u001b[49m\u001b[43m=\u001b[49m\u001b[43mwhere_document\u001b[49m\u001b[43m,\u001b[49m\n\u001b[32m    219\u001b[39m \u001b[43m        \u001b[49m\u001b[43minclude\u001b[49m\u001b[43m=\u001b[49m\u001b[43minclude\u001b[49m\u001b[43m,\u001b[49m\n\u001b[32m    220\u001b[39m \u001b[43m    \u001b[49m\u001b[43m)\u001b[49m\n\u001b[32m    222\u001b[39m     query_results = \u001b[38;5;28mself\u001b[39m._client._query(\n\u001b[32m    223\u001b[39m         collection_id=\u001b[38;5;28mself\u001b[39m.id,\n\u001b[32m    224\u001b[39m         query_embeddings=query_request[\u001b[33m\"\u001b[39m\u001b[33membeddings\u001b[39m\u001b[33m\"\u001b[39m],\n\u001b[32m   (...)\u001b[39m\u001b[32m    230\u001b[39m         database=\u001b[38;5;28mself\u001b[39m.database,\n\u001b[32m    231\u001b[39m     )\n\u001b[32m    233\u001b[39m     \u001b[38;5;28;01mreturn\u001b[39;00m \u001b[38;5;28mself\u001b[39m._transform_query_response(\n\u001b[32m    234\u001b[39m         response=query_results, include=query_request[\u001b[33m\"\u001b[39m\u001b[33minclude\u001b[39m\u001b[33m\"\u001b[39m]\n\u001b[32m    235\u001b[39m     )\n",
      "\u001b[36mFile \u001b[39m\u001b[32m~/dungeon/rpg_venv/lib/python3.12/site-packages/chromadb/api/models/CollectionCommon.py:93\u001b[39m, in \u001b[36mvalidation_context.<locals>.decorator.<locals>.wrapper\u001b[39m\u001b[34m(self, *args, **kwargs)\u001b[39m\n\u001b[32m     91\u001b[39m \u001b[38;5;28;01mexcept\u001b[39;00m \u001b[38;5;167;01mException\u001b[39;00m \u001b[38;5;28;01mas\u001b[39;00m e:\n\u001b[32m     92\u001b[39m     msg = \u001b[33mf\u001b[39m\u001b[33m\"\u001b[39m\u001b[38;5;132;01m{\u001b[39;00m\u001b[38;5;28mstr\u001b[39m(e)\u001b[38;5;132;01m}\u001b[39;00m\u001b[33m in \u001b[39m\u001b[38;5;132;01m{\u001b[39;00mname\u001b[38;5;132;01m}\u001b[39;00m\u001b[33m.\u001b[39m\u001b[33m\"\u001b[39m\n\u001b[32m---> \u001b[39m\u001b[32m93\u001b[39m     \u001b[38;5;28;01mraise\u001b[39;00m \u001b[38;5;28mtype\u001b[39m(e)(msg).with_traceback(e.__traceback__)\n",
      "\u001b[36mFile \u001b[39m\u001b[32m~/dungeon/rpg_venv/lib/python3.12/site-packages/chromadb/api/models/CollectionCommon.py:90\u001b[39m, in \u001b[36mvalidation_context.<locals>.decorator.<locals>.wrapper\u001b[39m\u001b[34m(self, *args, **kwargs)\u001b[39m\n\u001b[32m     87\u001b[39m \u001b[38;5;129m@functools\u001b[39m.wraps(func)\n\u001b[32m     88\u001b[39m \u001b[38;5;28;01mdef\u001b[39;00m\u001b[38;5;250m \u001b[39m\u001b[34mwrapper\u001b[39m(\u001b[38;5;28mself\u001b[39m: Any, *args: Any, **kwargs: Any) -> T:\n\u001b[32m     89\u001b[39m     \u001b[38;5;28;01mtry\u001b[39;00m:\n\u001b[32m---> \u001b[39m\u001b[32m90\u001b[39m         \u001b[38;5;28;01mreturn\u001b[39;00m \u001b[43mfunc\u001b[49m\u001b[43m(\u001b[49m\u001b[38;5;28;43mself\u001b[39;49m\u001b[43m,\u001b[49m\u001b[43m \u001b[49m\u001b[43m*\u001b[49m\u001b[43margs\u001b[49m\u001b[43m,\u001b[49m\u001b[43m \u001b[49m\u001b[43m*\u001b[49m\u001b[43m*\u001b[49m\u001b[43mkwargs\u001b[49m\u001b[43m)\u001b[49m\n\u001b[32m     91\u001b[39m     \u001b[38;5;28;01mexcept\u001b[39;00m \u001b[38;5;167;01mException\u001b[39;00m \u001b[38;5;28;01mas\u001b[39;00m e:\n\u001b[32m     92\u001b[39m         msg = \u001b[33mf\u001b[39m\u001b[33m\"\u001b[39m\u001b[38;5;132;01m{\u001b[39;00m\u001b[38;5;28mstr\u001b[39m(e)\u001b[38;5;132;01m}\u001b[39;00m\u001b[33m in \u001b[39m\u001b[38;5;132;01m{\u001b[39;00mname\u001b[38;5;132;01m}\u001b[39;00m\u001b[33m.\u001b[39m\u001b[33m\"\u001b[39m\n",
      "\u001b[36mFile \u001b[39m\u001b[32m~/dungeon/rpg_venv/lib/python3.12/site-packages/chromadb/api/models/CollectionCommon.py:294\u001b[39m, in \u001b[36mCollectionCommon._validate_and_prepare_query_request\u001b[39m\u001b[34m(self, query_embeddings, query_texts, query_images, query_uris, n_results, where, where_document, include)\u001b[39m\n\u001b[32m    292\u001b[39m \u001b[38;5;66;03m# Validate\u001b[39;00m\n\u001b[32m    293\u001b[39m validate_base_record_set(record_set=query_records)\n\u001b[32m--> \u001b[39m\u001b[32m294\u001b[39m \u001b[43mvalidate_filter_set\u001b[49m\u001b[43m(\u001b[49m\u001b[43mfilter_set\u001b[49m\u001b[43m=\u001b[49m\u001b[43mfilters\u001b[49m\u001b[43m)\u001b[49m\n\u001b[32m    295\u001b[39m validate_include(include=include)\n\u001b[32m    296\u001b[39m validate_n_results(n_results=n_results)\n",
      "\u001b[36mFile \u001b[39m\u001b[32m~/dungeon/rpg_venv/lib/python3.12/site-packages/chromadb/api/types.py:345\u001b[39m, in \u001b[36mvalidate_filter_set\u001b[39m\u001b[34m(filter_set)\u001b[39m\n\u001b[32m    343\u001b[39m \u001b[38;5;28;01mdef\u001b[39;00m\u001b[38;5;250m \u001b[39m\u001b[34mvalidate_filter_set\u001b[39m(filter_set: FilterSet) -> \u001b[38;5;28;01mNone\u001b[39;00m:\n\u001b[32m    344\u001b[39m     \u001b[38;5;28;01mif\u001b[39;00m filter_set[\u001b[33m\"\u001b[39m\u001b[33mwhere\u001b[39m\u001b[33m\"\u001b[39m] \u001b[38;5;129;01mis\u001b[39;00m \u001b[38;5;129;01mnot\u001b[39;00m \u001b[38;5;28;01mNone\u001b[39;00m:\n\u001b[32m--> \u001b[39m\u001b[32m345\u001b[39m         \u001b[43mvalidate_where\u001b[49m\u001b[43m(\u001b[49m\u001b[43mfilter_set\u001b[49m\u001b[43m[\u001b[49m\u001b[33;43m\"\u001b[39;49m\u001b[33;43mwhere\u001b[39;49m\u001b[33;43m\"\u001b[39;49m\u001b[43m]\u001b[49m\u001b[43m)\u001b[49m\n\u001b[32m    346\u001b[39m     \u001b[38;5;28;01mif\u001b[39;00m filter_set[\u001b[33m\"\u001b[39m\u001b[33mwhere_document\u001b[39m\u001b[33m\"\u001b[39m] \u001b[38;5;129;01mis\u001b[39;00m \u001b[38;5;129;01mnot\u001b[39;00m \u001b[38;5;28;01mNone\u001b[39;00m:\n\u001b[32m    347\u001b[39m         validate_where_document(filter_set[\u001b[33m\"\u001b[39m\u001b[33mwhere_document\u001b[39m\u001b[33m\"\u001b[39m])\n",
      "\u001b[36mFile \u001b[39m\u001b[32m~/dungeon/rpg_venv/lib/python3.12/site-packages/chromadb/api/types.py:659\u001b[39m, in \u001b[36mvalidate_where\u001b[39m\u001b[34m(where)\u001b[39m\n\u001b[32m    646\u001b[39m         \u001b[38;5;28;01mraise\u001b[39;00m \u001b[38;5;167;01mValueError\u001b[39;00m(\n\u001b[32m    647\u001b[39m             \u001b[33mf\u001b[39m\u001b[33m\"\u001b[39m\u001b[33mExpected operand value to be an list for operator \u001b[39m\u001b[38;5;132;01m{\u001b[39;00moperator\u001b[38;5;132;01m}\u001b[39;00m\u001b[33m, got \u001b[39m\u001b[38;5;132;01m{\u001b[39;00moperand\u001b[38;5;132;01m}\u001b[39;00m\u001b[33m\"\u001b[39m\n\u001b[32m    648\u001b[39m         )\n\u001b[32m    649\u001b[39m \u001b[38;5;28;01mif\u001b[39;00m operator \u001b[38;5;129;01mnot\u001b[39;00m \u001b[38;5;129;01min\u001b[39;00m [\n\u001b[32m    650\u001b[39m     \u001b[33m\"\u001b[39m\u001b[33m$gt\u001b[39m\u001b[33m\"\u001b[39m,\n\u001b[32m    651\u001b[39m     \u001b[33m\"\u001b[39m\u001b[33m$gte\u001b[39m\u001b[33m\"\u001b[39m,\n\u001b[32m   (...)\u001b[39m\u001b[32m    657\u001b[39m     \u001b[33m\"\u001b[39m\u001b[33m$nin\u001b[39m\u001b[33m\"\u001b[39m,\n\u001b[32m    658\u001b[39m ]:\n\u001b[32m--> \u001b[39m\u001b[32m659\u001b[39m     \u001b[38;5;28;01mraise\u001b[39;00m \u001b[38;5;167;01mValueError\u001b[39;00m(\n\u001b[32m    660\u001b[39m         \u001b[33mf\u001b[39m\u001b[33m\"\u001b[39m\u001b[33mExpected where operator to be one of $gt, $gte, $lt, $lte, $ne, $eq, $in, $nin, \u001b[39m\u001b[33m\"\u001b[39m\n\u001b[32m    661\u001b[39m         \u001b[33mf\u001b[39m\u001b[33m\"\u001b[39m\u001b[33mgot \u001b[39m\u001b[38;5;132;01m{\u001b[39;00moperator\u001b[38;5;132;01m}\u001b[39;00m\u001b[33m\"\u001b[39m\n\u001b[32m    662\u001b[39m     )\n\u001b[32m    664\u001b[39m \u001b[38;5;28;01mif\u001b[39;00m \u001b[38;5;129;01mnot\u001b[39;00m \u001b[38;5;28misinstance\u001b[39m(operand, (\u001b[38;5;28mstr\u001b[39m, \u001b[38;5;28mint\u001b[39m, \u001b[38;5;28mfloat\u001b[39m, \u001b[38;5;28mlist\u001b[39m)):\n\u001b[32m    665\u001b[39m     \u001b[38;5;28;01mraise\u001b[39;00m \u001b[38;5;167;01mValueError\u001b[39;00m(\n\u001b[32m    666\u001b[39m         \u001b[33mf\u001b[39m\u001b[33m\"\u001b[39m\u001b[33mExpected where operand value to be a str, int, float, or list of those type, got \u001b[39m\u001b[38;5;132;01m{\u001b[39;00moperand\u001b[38;5;132;01m}\u001b[39;00m\u001b[33m\"\u001b[39m\n\u001b[32m    667\u001b[39m     )\n",
      "\u001b[31mValueError\u001b[39m: Expected where operator to be one of $gt, $gte, $lt, $lte, $ne, $eq, $in, $nin, got $contains in query."
     ]
    }
   ],
   "source": [
    "if __name__ == \"__main__\" or 'ipykernel' in sys.modules:\n",
    "    main()"
   ]
  },
  {
   "cell_type": "code",
   "execution_count": null,
   "metadata": {},
   "outputs": [],
   "source": []
  }
 ],
 "metadata": {
  "kernelspec": {
   "display_name": "Python 3 (ipykernel)",
   "language": "python",
   "name": "python3"
  },
  "language_info": {
   "codemirror_mode": {
    "name": "ipython",
    "version": 3
   },
   "file_extension": ".py",
   "mimetype": "text/x-python",
   "name": "python",
   "nbconvert_exporter": "python",
   "pygments_lexer": "ipython3",
   "version": "3.12.7"
  }
 },
 "nbformat": 4,
 "nbformat_minor": 4
}
