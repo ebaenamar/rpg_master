{
 "cells": [
  {
   "cell_type": "markdown",
   "metadata": {},
   "source": [
    "# Medieval Chronicles: The Fallen Knight\n",
    "\n",
    "This notebook runs a text-based RPG game with RAG-based historical context."
   ]
  },
  {
   "cell_type": "markdown",
   "metadata": {},
   "source": [
    "## Setup and Imports"
   ]
  },
  {
   "cell_type": "code",
   "execution_count": 1,
   "metadata": {},
   "outputs": [
    {
     "data": {
      "text/plain": [
       "True"
      ]
     },
     "execution_count": 1,
     "metadata": {},
     "output_type": "execute_result"
    }
   ],
   "source": [
    "import os\n",
    "import json\n",
    "from dotenv import load_dotenv\n",
    "\n",
    "from rpg_game.orchestrator.game_orchestrator import GameOrchestrator\n",
    "from rpg_game.rag.retriever import RAGRetriever, load_sample_data\n",
    "\n",
    "# Load environment variables\n",
    "load_dotenv()"
   ]
  },
  {
   "cell_type": "markdown",
   "metadata": {},
   "source": [
    "## RAG System Setup\n",
    "\n",
    "Set up the Retrieval-Augmented Generation system with historical data."
   ]
  },
  {
   "cell_type": "code",
   "execution_count": 2,
   "metadata": {},
   "outputs": [],
   "source": [
    "def setup_rag_system():\n",
    "    \"\"\"Set up the RAG system with historical data\"\"\"\n",
    "    print(\"Setting up RAG system with historical data...\")\n",
    "    \n",
    "    # Create data directory if it doesn't exist\n",
    "    os.makedirs(\"./data/vector_db\", exist_ok=True)\n",
    "    \n",
    "    # Initialize RAG retriever\n",
    "    retriever = RAGRetriever()\n",
    "    \n",
    "    # Load sample historical data\n",
    "    historical_data = load_sample_data(\"./data/historical_data.json\")\n",
    "    \n",
    "    if historical_data:\n",
    "        # Add documents to vector database\n",
    "        retriever.add_documents(historical_data)\n",
    "        print(f\"Added {len(historical_data)} historical documents to RAG system\")\n",
    "    else:\n",
    "        print(\"No historical data found or error loading data\")\n",
    "    \n",
    "    return retriever"
   ]
  },
  {
   "cell_type": "markdown",
   "metadata": {},
   "source": [
    "## Game Loop\n",
    "\n",
    "The main game loop for the text-based RPG."
   ]
  },
  {
   "cell_type": "code",
   "execution_count": 3,
   "metadata": {},
   "outputs": [],
   "source": [
    "def text_based_game_loop():\n",
    "    \"\"\"Run a simple text-based version of the game\"\"\"\n",
    "    # Set up RAG system\n",
    "    setup_rag_system()\n",
    "    \n",
    "    # Initialize game orchestrator\n",
    "    game = GameOrchestrator()\n",
    "    \n",
    "    # Start the game\n",
    "    player_name = input(\"Enter your character's name: \")\n",
    "    current_scene = game.start_game(player_name)\n",
    "    \n",
    "    print(\"\\n\" + \"=\" * 50)\n",
    "    print(f\"Welcome to Medieval Chronicles: The Fallen Knight, {player_name}!\")\n",
    "    print(\"You are accompanied by Ser Elyen, a fallen knight seeking redemption.\")\n",
    "    print(\"=\" * 50 + \"\\n\")\n",
    "    \n",
    "    # Game loop\n",
    "    while True:\n",
    "        # Display current scene\n",
    "        print(f\"\\n== {current_scene['title']} ==\\n\")\n",
    "        print(current_scene['description'])\n",
    "        print(\"\\n\")\n",
    "        \n",
    "        # Display historical context if available\n",
    "        if current_scene.get('historical_context'):\n",
    "            print(\"Historical Context:\")\n",
    "            for item in current_scene['historical_context']:\n",
    "                print(f\"- {item['title']}: {item['text'][:100]}...\")\n",
    "            print(\"\\n\")\n",
    "        \n",
    "        # Display player alignment\n",
    "        alignment = current_scene['player_scores']['alignment']\n",
    "        relationship = current_scene['player_scores']['relationship']\n",
    "        print(f\"Alignment: {alignment['description']} ({alignment['law_chaos']}/{alignment['good_evil']})\")\n",
    "        print(f\"Relationship with Ser Elyen: {relationship['description']} ({relationship['trust']}/100)\")\n",
    "        print(\"\\n\")\n",
    "        \n",
    "        # Display action choices\n",
    "        print(\"What will you do?\")\n",
    "        for i, action in enumerate(current_scene['actions']):\n",
    "            print(f\"{chr(65+i)}) {action}\")\n",
    "        \n",
    "        # Get player choice\n",
    "        while True:\n",
    "            choice = input(\"\\nEnter your choice (A, B, C, D): \").upper()\n",
    "            if choice in ['A', 'B', 'C', 'D']:\n",
    "                action_index = ord(choice) - ord('A')\n",
    "                if action_index < len(current_scene['actions']):\n",
    "                    break\n",
    "            print(\"Invalid choice. Please try again.\")\n",
    "        \n",
    "        # Process player action\n",
    "        action_result = game.process_player_action(action_index)\n",
    "        \n",
    "        # Display agent response\n",
    "        print(\"\\n\" + \"-\" * 50)\n",
    "        print(f\"Ser Elyen: {action_result['agent_response']}\")\n",
    "        print(\"-\" * 50 + \"\\n\")\n",
    "        \n",
    "        # Check if game should continue\n",
    "        if action_result['has_next_scene']:\n",
    "            # Advance to next scene\n",
    "            current_scene = game.advance_to_next_scene()\n",
    "        else:\n",
    "            # End of game or branch\n",
    "            print(\"\\nYou have reached the end of this path.\")\n",
    "            if input(\"Would you like to save your progress? (y/n): \").lower() == 'y':\n",
    "                game.save_game()\n",
    "                print(\"Game saved.\")\n",
    "            \n",
    "            if input(\"Would you like to continue exploring? (y/n): \").lower() != 'y':\n",
    "                break\n",
    "            \n",
    "            # Return to a previous scene for exploration\n",
    "            current_scene = game.get_current_scene()\n",
    "    \n",
    "    print(\"\\nThank you for playing Medieval Chronicles: The Fallen Knight!\")"
   ]
  },
  {
   "cell_type": "markdown",
   "metadata": {},
   "source": [
    "## API Key Check and Main Function\n",
    "\n",
    "Check for the AI21 API key and provide a way to set it if missing."
   ]
  },
  {
   "cell_type": "code",
   "execution_count": 4,
   "metadata": {},
   "outputs": [],
   "source": [
    "def main():\n",
    "    \"\"\"Main entry point\"\"\"\n",
    "    # Check if AI21 API key is set\n",
    "    if not os.getenv('AI21_API_KEY'):\n",
    "        print(\"WARNING: AI21_API_KEY environment variable is not set.\")\n",
    "        print(\"Please set your AI21 API key in a .env file or environment variable.\")\n",
    "        api_key = input(\"Enter your AI21 API key to continue: \")\n",
    "        os.environ['AI21_API_KEY'] = api_key\n",
    "    \n",
    "    # Run the game\n",
    "    text_based_game_loop()"
   ]
  },
  {
   "cell_type": "markdown",
   "metadata": {},
   "source": [
    "## Run the Game\n",
    "\n",
    "Execute this cell to start the game."
   ]
  },
  {
   "cell_type": "code",
   "execution_count": 5,
   "metadata": {},
   "outputs": [
    {
     "name": "stdin",
     "output_type": "stream",
     "text": [
      "Enter your AI21 API key:  v7uBaXL8sXKB4SmHsrxIOa14sYsWPcT9\n"
     ]
    },
    {
     "name": "stdout",
     "output_type": "stream",
     "text": [
      "✅ API key set successfully.\n"
     ]
    }
   ],
   "source": [
    "import os\n",
    "\n",
    "# Set your AI21 API key\n",
    "api_key = input(\"Enter your AI21 API key: \")\n",
    "os.environ['AI21_API_KEY'] = api_key\n",
    "print(\"✅ API key set successfully.\")"
   ]
  },
  {
   "cell_type": "code",
   "execution_count": 6,
   "metadata": {},
   "outputs": [
    {
     "name": "stdout",
     "output_type": "stream",
     "text": [
      "Add this code to your Jupyter notebook:\n",
      "\n",
      "================================================================================\n",
      "\n",
      "# Force reload of RAG modules to apply code changes\n",
      "from reload_modules import reload_rag_modules\n",
      "reload_rag_modules()\n",
      "\n",
      "================================================================================\n",
      "\n",
      "Run this cell before starting the game.\n",
      "Reloading module: rpg_game.rag.retriever\n",
      "Reloading module: rpg_game.orchestrator.game_orchestrator\n",
      "Module rag_helper not loaded yet\n",
      "✅ All RAG modules reloaded successfully\n",
      "Now you can run the game again!\n",
      "Setting up RAG system with historical data...\n"
     ]
    },
    {
     "name": "stderr",
     "output_type": "stream",
     "text": [
      "/Users/e.baena/dungeon/rpg_game/rag/retriever.py:25: LangChainDeprecationWarning: The class `HuggingFaceEmbeddings` was deprecated in LangChain 0.2.2 and will be removed in 1.0. An updated version of the class exists in the :class:`~langchain-huggingface package and should be used instead. To use it run `pip install -U :class:`~langchain-huggingface` and import as `from :class:`~langchain_huggingface import HuggingFaceEmbeddings``.\n",
      "  self.embeddings = HuggingFaceEmbeddings(model_name=embedding_model)\n",
      "/Users/e.baena/dungeon/rpg_game/rag/retriever.py:33: LangChainDeprecationWarning: The class `Chroma` was deprecated in LangChain 0.2.9 and will be removed in 1.0. An updated version of the class exists in the :class:`~langchain-chroma package and should be used instead. To use it run `pip install -U :class:`~langchain-chroma` and import as `from :class:`~langchain_chroma import Chroma``.\n",
      "  self.vectordb = Chroma(\n"
     ]
    },
    {
     "name": "stdout",
     "output_type": "stream",
     "text": [
      "Loaded vector database with 60 documents\n"
     ]
    },
    {
     "name": "stderr",
     "output_type": "stream",
     "text": [
      "/Users/e.baena/dungeon/rpg_game/rag/retriever.py:65: LangChainDeprecationWarning: Since Chroma 0.4.x the manual persistence method is no longer supported as docs are automatically persisted.\n",
      "  self.vectordb.persist()\n"
     ]
    },
    {
     "name": "stdout",
     "output_type": "stream",
     "text": [
      "Added 10 documents to vector database\n",
      "Added 10 historical documents to RAG system\n",
      "Loaded vector database with 70 documents\n",
      "Loaded 5 scenes from game data\n"
     ]
    },
    {
     "name": "stdin",
     "output_type": "stream",
     "text": [
      "Enter your character's name:  ed\n"
     ]
    },
    {
     "name": "stdout",
     "output_type": "stream",
     "text": [
      "\n",
      "==================================================\n",
      "Welcome to Medieval Chronicles: The Fallen Knight, ed!\n",
      "You are accompanied by Ser Elyen, a fallen knight seeking redemption.\n",
      "==================================================\n",
      "\n",
      "\n",
      "== The Broken Bell ==\n",
      "\n",
      "You stand beneath the broken bell of the village church. The wooden beams creak above you, and dust motes dance in the rays of sunlight streaming through the stained glass windows. The bell's rope hangs limply, frayed at the end.\n",
      "\n",
      "\n",
      "Alignment: Neutral Neutral (0/0)\n",
      "Relationship with Ser Elyen: Moderate Trust (50/100)\n",
      "\n",
      "\n",
      "What will you do?\n",
      "A) Pull the rope to test the bell\n",
      "B) Examine the inscription on the bell\n",
      "C) Search the altar for clues\n",
      "D) Leave quietly and investigate the woods\n"
     ]
    },
    {
     "name": "stdin",
     "output_type": "stream",
     "text": [
      "\n",
      "Enter your choice (A, B, C, D):  a\n"
     ]
    },
    {
     "name": "stderr",
     "output_type": "stream",
     "text": [
      "[2025-03-23 16:41:42 - ai21.http_client.http_client - ERROR] Calling POST https://api.ai21.com/studio/v1 failed with a non-200 response code: 401 headers: Headers({'date': 'Sun, 23 Mar 2025 20:41:42 GMT', 'content-type': 'application/json', 'content-length': '50', 'connection': 'keep-alive', 'request-id': 'c7a4c633-0e38-6216-29be-bbe765f5284a', 'via': '1.1 google', 'cf-cache-status': 'DYNAMIC', 'strict-transport-security': 'max-age=15552000; includeSubDomains', 'expect-ct': 'max-age=86400, enforce', 'referrer-policy': 'same-origin', 'x-content-type-options': 'nosniff', 'x-frame-options': 'SAMEORIGIN', 'x-xss-protection': '1; mode=block', 'server': 'cloudflare', 'cf-ray': '9250c0460d9415a3-EWR'})\n"
     ]
    },
    {
     "ename": "Unauthorized",
     "evalue": "Failed with http status code: 401 (Unauthorized). Details: {\"detail\":\"Forbidden: Bad or missing Apikey/JWT.\"}",
     "output_type": "error",
     "traceback": [
      "\u001b[31m---------------------------------------------------------------------------\u001b[39m",
      "\u001b[31mUnauthorized\u001b[39m                              Traceback (most recent call last)",
      "\u001b[36mCell\u001b[39m\u001b[36m \u001b[39m\u001b[32mIn[6]\u001b[39m\u001b[32m, line 5\u001b[39m\n\u001b[32m      3\u001b[39m reload_rag_modules()\n\u001b[32m      4\u001b[39m \u001b[38;5;28;01mif\u001b[39;00m \u001b[34m__name__\u001b[39m == \u001b[33m\"\u001b[39m\u001b[33m__main__\u001b[39m\u001b[33m\"\u001b[39m \u001b[38;5;129;01mor\u001b[39;00m \u001b[33m'\u001b[39m\u001b[33mipykernel\u001b[39m\u001b[33m'\u001b[39m \u001b[38;5;129;01min\u001b[39;00m sys.modules:\n\u001b[32m----> \u001b[39m\u001b[32m5\u001b[39m     \u001b[43mmain\u001b[49m\u001b[43m(\u001b[49m\u001b[43m)\u001b[49m\n",
      "\u001b[36mCell\u001b[39m\u001b[36m \u001b[39m\u001b[32mIn[4]\u001b[39m\u001b[32m, line 11\u001b[39m, in \u001b[36mmain\u001b[39m\u001b[34m()\u001b[39m\n\u001b[32m      8\u001b[39m     os.environ[\u001b[33m'\u001b[39m\u001b[33mAI21_API_KEY\u001b[39m\u001b[33m'\u001b[39m] = api_key\n\u001b[32m     10\u001b[39m \u001b[38;5;66;03m# Run the game\u001b[39;00m\n\u001b[32m---> \u001b[39m\u001b[32m11\u001b[39m \u001b[43mtext_based_game_loop\u001b[49m\u001b[43m(\u001b[49m\u001b[43m)\u001b[49m\n",
      "\u001b[36mCell\u001b[39m\u001b[36m \u001b[39m\u001b[32mIn[3]\u001b[39m\u001b[32m, line 54\u001b[39m, in \u001b[36mtext_based_game_loop\u001b[39m\u001b[34m()\u001b[39m\n\u001b[32m     51\u001b[39m     \u001b[38;5;28mprint\u001b[39m(\u001b[33m\"\u001b[39m\u001b[33mInvalid choice. Please try again.\u001b[39m\u001b[33m\"\u001b[39m)\n\u001b[32m     53\u001b[39m \u001b[38;5;66;03m# Process player action\u001b[39;00m\n\u001b[32m---> \u001b[39m\u001b[32m54\u001b[39m action_result = \u001b[43mgame\u001b[49m\u001b[43m.\u001b[49m\u001b[43mprocess_player_action\u001b[49m\u001b[43m(\u001b[49m\u001b[43maction_index\u001b[49m\u001b[43m)\u001b[49m\n\u001b[32m     56\u001b[39m \u001b[38;5;66;03m# Display agent response\u001b[39;00m\n\u001b[32m     57\u001b[39m \u001b[38;5;28mprint\u001b[39m(\u001b[33m\"\u001b[39m\u001b[38;5;130;01m\\n\u001b[39;00m\u001b[33m\"\u001b[39m + \u001b[33m\"\u001b[39m\u001b[33m-\u001b[39m\u001b[33m\"\u001b[39m * \u001b[32m50\u001b[39m)\n",
      "\u001b[36mFile \u001b[39m\u001b[32m~/dungeon/rpg_game/orchestrator/game_orchestrator.py:209\u001b[39m, in \u001b[36mGameOrchestrator.process_player_action\u001b[39m\u001b[34m(self, action_index, custom_action)\u001b[39m\n\u001b[32m    201\u001b[39m scene_context = {\n\u001b[32m    202\u001b[39m     \u001b[33m\"\u001b[39m\u001b[33mdescription\u001b[39m\u001b[33m\"\u001b[39m: scene[\u001b[33m\"\u001b[39m\u001b[33mdescription\u001b[39m\u001b[33m\"\u001b[39m],\n\u001b[32m    203\u001b[39m     \u001b[33m\"\u001b[39m\u001b[33mlocation\u001b[39m\u001b[33m\"\u001b[39m: scene.get(\u001b[33m\"\u001b[39m\u001b[33mlocation\u001b[39m\u001b[33m\"\u001b[39m, \u001b[33m\"\u001b[39m\u001b[33m\"\u001b[39m),\n\u001b[32m    204\u001b[39m     \u001b[33m\"\u001b[39m\u001b[33mtime_of_day\u001b[39m\u001b[33m\"\u001b[39m: \u001b[38;5;28mself\u001b[39m.game_state[\u001b[33m\"\u001b[39m\u001b[33mtime_of_day\u001b[39m\u001b[33m\"\u001b[39m]\n\u001b[32m    205\u001b[39m }\n\u001b[32m    207\u001b[39m agent_context = \u001b[38;5;28mself\u001b[39m.behavior_controller.get_prompt_context()\n\u001b[32m--> \u001b[39m\u001b[32m209\u001b[39m agent_response = \u001b[38;5;28;43mself\u001b[39;49m\u001b[43m.\u001b[49m\u001b[43mllm_agent\u001b[49m\u001b[43m.\u001b[49m\u001b[43mgenerate_response\u001b[49m\u001b[43m(\u001b[49m\n\u001b[32m    210\u001b[39m \u001b[43m    \u001b[49m\u001b[43magent_context\u001b[49m\u001b[43m=\u001b[49m\u001b[43magent_context\u001b[49m\u001b[43m,\u001b[49m\n\u001b[32m    211\u001b[39m \u001b[43m    \u001b[49m\u001b[43mscene_context\u001b[49m\u001b[43m=\u001b[49m\u001b[43mscene_context\u001b[49m\u001b[43m,\u001b[49m\n\u001b[32m    212\u001b[39m \u001b[43m    \u001b[49m\u001b[43mhistorical_context\u001b[49m\u001b[43m=\u001b[49m\u001b[43mcurrent_scene\u001b[49m\u001b[43m[\u001b[49m\u001b[33;43m\"\u001b[39;49m\u001b[33;43mhistorical_context\u001b[39;49m\u001b[33;43m\"\u001b[39;49m\u001b[43m]\u001b[49m\u001b[43m,\u001b[49m\n\u001b[32m    213\u001b[39m \u001b[43m    \u001b[49m\u001b[43mplayer_message\u001b[49m\u001b[43m=\u001b[49m\u001b[33;43mf\u001b[39;49m\u001b[33;43m\"\u001b[39;49m\u001b[33;43mI \u001b[39;49m\u001b[38;5;132;43;01m{\u001b[39;49;00m\u001b[43maction_description\u001b[49m\u001b[38;5;132;43;01m}\u001b[39;49;00m\u001b[33;43m\"\u001b[39;49m\n\u001b[32m    214\u001b[39m \u001b[43m\u001b[49m\u001b[43m)\u001b[49m\n\u001b[32m    216\u001b[39m \u001b[38;5;66;03m# Determine the next scene\u001b[39;00m\n\u001b[32m    217\u001b[39m next_scene_id = \u001b[38;5;28;01mNone\u001b[39;00m\n",
      "\u001b[36mFile \u001b[39m\u001b[32m~/dungeon/rpg_game/agent/llm_agent.py:97\u001b[39m, in \u001b[36mLLMCharacterAgent.generate_response\u001b[39m\u001b[34m(self, agent_context, scene_context, historical_context, player_message)\u001b[39m\n\u001b[32m     94\u001b[39m messages.append(ChatMessage(content=player_message, role=\u001b[33m\"\u001b[39m\u001b[33muser\u001b[39m\u001b[33m\"\u001b[39m))\n\u001b[32m     96\u001b[39m \u001b[38;5;66;03m# Generate response from AI21\u001b[39;00m\n\u001b[32m---> \u001b[39m\u001b[32m97\u001b[39m response = \u001b[38;5;28;43mself\u001b[39;49m\u001b[43m.\u001b[49m\u001b[43mclient\u001b[49m\u001b[43m.\u001b[49m\u001b[43mchat\u001b[49m\u001b[43m.\u001b[49m\u001b[43mcompletions\u001b[49m\u001b[43m.\u001b[49m\u001b[43mcreate\u001b[49m\u001b[43m(\u001b[49m\n\u001b[32m     98\u001b[39m \u001b[43m    \u001b[49m\u001b[43mmessages\u001b[49m\u001b[43m=\u001b[49m\u001b[43mmessages\u001b[49m\u001b[43m,\u001b[49m\n\u001b[32m     99\u001b[39m \u001b[43m    \u001b[49m\u001b[43mmodel\u001b[49m\u001b[43m=\u001b[49m\u001b[38;5;28;43mself\u001b[39;49m\u001b[43m.\u001b[49m\u001b[43mmodel\u001b[49m\u001b[43m,\u001b[49m\n\u001b[32m    100\u001b[39m \u001b[43m    \u001b[49m\u001b[43mtemperature\u001b[49m\u001b[43m=\u001b[49m\u001b[32;43m0.7\u001b[39;49m\u001b[43m,\u001b[49m\n\u001b[32m    101\u001b[39m \u001b[43m    \u001b[49m\u001b[43mmax_tokens\u001b[49m\u001b[43m=\u001b[49m\u001b[32;43m150\u001b[39;49m\u001b[43m,\u001b[49m\n\u001b[32m    102\u001b[39m \u001b[43m\u001b[49m\u001b[43m)\u001b[49m\n\u001b[32m    104\u001b[39m agent_response = response.choices[\u001b[32m0\u001b[39m].message.content\n\u001b[32m    106\u001b[39m \u001b[38;5;66;03m# Update conversation history\u001b[39;00m\n",
      "\u001b[36mFile \u001b[39m\u001b[32m~/dungeon/rpg_venv/lib/python3.12/site-packages/ai21/clients/studio/resources/chat/chat_completions.py:95\u001b[39m, in \u001b[36mChatCompletions.create\u001b[39m\u001b[34m(self, messages, model, max_tokens, temperature, top_p, stop, n, stream, tools, response_format, documents, **kwargs)\u001b[39m\n\u001b[32m     78\u001b[39m model = \u001b[38;5;28mself\u001b[39m._get_model(model=model)\n\u001b[32m     80\u001b[39m body = \u001b[38;5;28mself\u001b[39m._create_body(\n\u001b[32m     81\u001b[39m     model=model,\n\u001b[32m     82\u001b[39m     messages=messages,\n\u001b[32m   (...)\u001b[39m\u001b[32m     92\u001b[39m     **kwargs,\n\u001b[32m     93\u001b[39m )\n\u001b[32m---> \u001b[39m\u001b[32m95\u001b[39m \u001b[38;5;28;01mreturn\u001b[39;00m \u001b[38;5;28;43mself\u001b[39;49m\u001b[43m.\u001b[49m\u001b[43m_post\u001b[49m\u001b[43m(\u001b[49m\n\u001b[32m     96\u001b[39m \u001b[43m    \u001b[49m\u001b[43mpath\u001b[49m\u001b[43m=\u001b[49m\u001b[33;43mf\u001b[39;49m\u001b[33;43m\"\u001b[39;49m\u001b[33;43m/\u001b[39;49m\u001b[38;5;132;43;01m{\u001b[39;49;00m\u001b[38;5;28;43mself\u001b[39;49m\u001b[43m.\u001b[49m\u001b[43m_module_name\u001b[49m\u001b[38;5;132;43;01m}\u001b[39;49;00m\u001b[33;43m\"\u001b[39;49m\u001b[43m,\u001b[49m\n\u001b[32m     97\u001b[39m \u001b[43m    \u001b[49m\u001b[43mbody\u001b[49m\u001b[43m=\u001b[49m\u001b[43mbody\u001b[49m\u001b[43m,\u001b[49m\n\u001b[32m     98\u001b[39m \u001b[43m    \u001b[49m\u001b[43mstream\u001b[49m\u001b[43m=\u001b[49m\u001b[43mstream\u001b[49m\u001b[43m \u001b[49m\u001b[38;5;129;43;01mor\u001b[39;49;00m\u001b[43m \u001b[49m\u001b[38;5;28;43;01mFalse\u001b[39;49;00m\u001b[43m,\u001b[49m\n\u001b[32m     99\u001b[39m \u001b[43m    \u001b[49m\u001b[43mstream_cls\u001b[49m\u001b[43m=\u001b[49m\u001b[43mStream\u001b[49m\u001b[43m[\u001b[49m\u001b[43mChatCompletionChunk\u001b[49m\u001b[43m]\u001b[49m\u001b[43m,\u001b[49m\n\u001b[32m    100\u001b[39m \u001b[43m    \u001b[49m\u001b[43mresponse_cls\u001b[49m\u001b[43m=\u001b[49m\u001b[43mChatCompletionResponse\u001b[49m\u001b[43m,\u001b[49m\n\u001b[32m    101\u001b[39m \u001b[43m\u001b[49m\u001b[43m)\u001b[49m\n",
      "\u001b[36mFile \u001b[39m\u001b[32m~/dungeon/rpg_venv/lib/python3.12/site-packages/ai21/clients/studio/resources/studio_resource.py:60\u001b[39m, in \u001b[36mStudioResource._post\u001b[39m\u001b[34m(self, path, body, params, response_cls, stream_cls, stream, files)\u001b[39m\n\u001b[32m     50\u001b[39m \u001b[38;5;28;01mdef\u001b[39;00m\u001b[38;5;250m \u001b[39m\u001b[34m_post\u001b[39m(\n\u001b[32m     51\u001b[39m     \u001b[38;5;28mself\u001b[39m,\n\u001b[32m     52\u001b[39m     path: \u001b[38;5;28mstr\u001b[39m,\n\u001b[32m   (...)\u001b[39m\u001b[32m     58\u001b[39m     files: Optional[Dict[\u001b[38;5;28mstr\u001b[39m, BinaryIO]] = \u001b[38;5;28;01mNone\u001b[39;00m,\n\u001b[32m     59\u001b[39m ) -> ResponseT | StreamT:\n\u001b[32m---> \u001b[39m\u001b[32m60\u001b[39m     response = \u001b[38;5;28;43mself\u001b[39;49m\u001b[43m.\u001b[49m\u001b[43m_client\u001b[49m\u001b[43m.\u001b[49m\u001b[43mexecute_http_request\u001b[49m\u001b[43m(\u001b[49m\n\u001b[32m     61\u001b[39m \u001b[43m        \u001b[49m\u001b[43mmethod\u001b[49m\u001b[43m=\u001b[49m\u001b[33;43m\"\u001b[39;49m\u001b[33;43mPOST\u001b[39;49m\u001b[33;43m\"\u001b[39;49m\u001b[43m,\u001b[49m\n\u001b[32m     62\u001b[39m \u001b[43m        \u001b[49m\u001b[43mpath\u001b[49m\u001b[43m=\u001b[49m\u001b[43mpath\u001b[49m\u001b[43m,\u001b[49m\n\u001b[32m     63\u001b[39m \u001b[43m        \u001b[49m\u001b[43mstream\u001b[49m\u001b[43m=\u001b[49m\u001b[43mstream\u001b[49m\u001b[43m,\u001b[49m\n\u001b[32m     64\u001b[39m \u001b[43m        \u001b[49m\u001b[43mbody\u001b[49m\u001b[43m=\u001b[49m\u001b[43mbody\u001b[49m\u001b[43m \u001b[49m\u001b[38;5;129;43;01mor\u001b[39;49;00m\u001b[43m \u001b[49m\u001b[43m{\u001b[49m\u001b[43m}\u001b[49m\u001b[43m,\u001b[49m\n\u001b[32m     65\u001b[39m \u001b[43m        \u001b[49m\u001b[43mparams\u001b[49m\u001b[43m=\u001b[49m\u001b[43mparams\u001b[49m\u001b[43m \u001b[49m\u001b[38;5;129;43;01mor\u001b[39;49;00m\u001b[43m \u001b[49m\u001b[43m{\u001b[49m\u001b[43m}\u001b[49m\u001b[43m,\u001b[49m\n\u001b[32m     66\u001b[39m \u001b[43m        \u001b[49m\u001b[43mfiles\u001b[49m\u001b[43m=\u001b[49m\u001b[43mfiles\u001b[49m\u001b[43m,\u001b[49m\n\u001b[32m     67\u001b[39m \u001b[43m    \u001b[49m\u001b[43m)\u001b[49m\n\u001b[32m     69\u001b[39m     \u001b[38;5;28;01mreturn\u001b[39;00m _cast_response(\n\u001b[32m     70\u001b[39m         stream=stream,\n\u001b[32m     71\u001b[39m         response=response,\n\u001b[32m   (...)\u001b[39m\u001b[32m     74\u001b[39m         streaming_decoder=\u001b[38;5;28mself\u001b[39m._client._get_streaming_decoder(),\n\u001b[32m     75\u001b[39m     )\n",
      "\u001b[36mFile \u001b[39m\u001b[32m~/dungeon/rpg_venv/lib/python3.12/site-packages/ai21/http_client/http_client.py:110\u001b[39m, in \u001b[36mAI21HTTPClient.execute_http_request\u001b[39m\u001b[34m(self, method, path, params, body, stream, files, extra_headers)\u001b[39m\n\u001b[32m    108\u001b[39m         handle_non_success_response(response.status_code, details)\n\u001b[32m    109\u001b[39m     \u001b[38;5;28;01melse\u001b[39;00m:\n\u001b[32m--> \u001b[39m\u001b[32m110\u001b[39m         \u001b[43mhandle_non_success_response\u001b[49m\u001b[43m(\u001b[49m\u001b[43mresponse\u001b[49m\u001b[43m.\u001b[49m\u001b[43mstatus_code\u001b[49m\u001b[43m,\u001b[49m\u001b[43m \u001b[49m\u001b[43mresponse\u001b[49m\u001b[43m.\u001b[49m\u001b[43mtext\u001b[49m\u001b[43m)\u001b[49m\n\u001b[32m    112\u001b[39m \u001b[38;5;28;01mreturn\u001b[39;00m response\n",
      "\u001b[36mFile \u001b[39m\u001b[32m~/dungeon/rpg_venv/lib/python3.12/site-packages/ai21/http_client/base_http_client.py:40\u001b[39m, in \u001b[36mhandle_non_success_response\u001b[39m\u001b[34m(status_code, response_text)\u001b[39m\n\u001b[32m     38\u001b[39m     \u001b[38;5;28;01mraise\u001b[39;00m BadRequest(details=response_text)\n\u001b[32m     39\u001b[39m \u001b[38;5;28;01mif\u001b[39;00m status_code == \u001b[32m401\u001b[39m:\n\u001b[32m---> \u001b[39m\u001b[32m40\u001b[39m     \u001b[38;5;28;01mraise\u001b[39;00m Unauthorized(details=response_text)\n\u001b[32m     41\u001b[39m \u001b[38;5;28;01mif\u001b[39;00m status_code == \u001b[32m422\u001b[39m:\n\u001b[32m     42\u001b[39m     \u001b[38;5;28;01mraise\u001b[39;00m UnprocessableEntity(details=response_text)\n",
      "\u001b[31mUnauthorized\u001b[39m: Failed with http status code: 401 (Unauthorized). Details: {\"detail\":\"Forbidden: Bad or missing Apikey/JWT.\"}"
     ]
    }
   ],
   "source": [
    "# Force reload of RAG modules to apply code changes\n",
    "from reload_modules import reload_rag_modules\n",
    "reload_rag_modules()\n",
    "if __name__ == \"__main__\" or 'ipykernel' in sys.modules:\n",
    "    main()\n",
    "    "
   ]
  },
  {
   "cell_type": "code",
   "execution_count": null,
   "metadata": {},
   "outputs": [],
   "source": []
  }
 ],
 "metadata": {
  "kernelspec": {
   "display_name": "Python 3 (ipykernel)",
   "language": "python",
   "name": "python3"
  },
  "language_info": {
   "codemirror_mode": {
    "name": "ipython",
    "version": 3
   },
   "file_extension": ".py",
   "mimetype": "text/x-python",
   "name": "python",
   "nbconvert_exporter": "python",
   "pygments_lexer": "ipython3",
   "version": "3.12.7"
  }
 },
 "nbformat": 4,
 "nbformat_minor": 4
}
